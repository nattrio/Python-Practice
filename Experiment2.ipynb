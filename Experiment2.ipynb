{
  "nbformat": 4,
  "nbformat_minor": 0,
  "metadata": {
    "colab": {
      "name": "Experiment2.ipynb",
      "provenance": [],
      "collapsed_sections": [],
      "include_colab_link": true
    },
    "kernelspec": {
      "name": "python3",
      "display_name": "Python 3"
    },
    "language_info": {
      "name": "python"
    }
  },
  "cells": [
    {
      "cell_type": "markdown",
      "metadata": {
        "id": "view-in-github",
        "colab_type": "text"
      },
      "source": [
        "<a href=\"https://colab.research.google.com/github/nattrio/Python-Practice/blob/master/Experiment2.ipynb\" target=\"_parent\"><img src=\"https://colab.research.google.com/assets/colab-badge.svg\" alt=\"Open In Colab\"/></a>"
      ]
    },
    {
      "cell_type": "markdown",
      "metadata": {
        "id": "x-7fa9yZr2FX"
      },
      "source": [
        "# Experiment"
      ]
    },
    {
      "cell_type": "markdown",
      "metadata": {
        "id": "mss5ymBhr8pg"
      },
      "source": [
        "## Import Library"
      ]
    },
    {
      "cell_type": "code",
      "metadata": {
        "id": "JvpilAKesheK",
        "colab": {
          "base_uri": "https://localhost:8080/"
        },
        "outputId": "da694be8-4c6b-47bd-d9f0-42a4ab864c5a"
      },
      "source": [
        "import warnings\n",
        "warnings.filterwarnings('ignore')\n",
        "\n",
        "# File\n",
        "import os\n",
        "from google.colab import drive\n",
        "drive.mount('/content/drive')\n",
        "\n",
        "# Basic\n",
        "import numpy as np\n",
        "import pandas as pd\n",
        "import matplotlib.pyplot as plt\n",
        "import seaborn as sns\n",
        "import time\n",
        "\n",
        "# Modelling\n",
        "from sklearn.tree import DecisionTreeClassifier\n",
        "from sklearn.neighbors import KNeighborsClassifier\n",
        "from sklearn.linear_model import LogisticRegression\n",
        "from sklearn.ensemble import RandomForestClassifier\n",
        "from sklearn.neural_network import MLPClassifier\n",
        "\n",
        "from sklearn.naive_bayes import GaussianNB\n",
        "from sklearn.svm import SVC\n",
        "\n",
        "# Evaluation\n",
        "from sklearn.model_selection import train_test_split, KFold, StratifiedKFold, cross_val_score\n",
        "from sklearn.metrics import accuracy_score, classification_report, confusion_matrix, plot_confusion_matrix\n",
        "\n",
        "# Implementation\n",
        "import pickle"
      ],
      "execution_count": 761,
      "outputs": [
        {
          "output_type": "stream",
          "text": [
            "Drive already mounted at /content/drive; to attempt to forcibly remount, call drive.mount(\"/content/drive\", force_remount=True).\n"
          ],
          "name": "stdout"
        }
      ]
    },
    {
      "cell_type": "markdown",
      "metadata": {
        "id": "pUPORfCosP32"
      },
      "source": [
        "## Import Dataset"
      ]
    },
    {
      "cell_type": "code",
      "metadata": {
        "id": "Ipqc-ilhsshg"
      },
      "source": [
        "# ติดตั้งภาษาไทย\n",
        "\n",
        "!wget -q https://github.com/Phonbopit/sarabun-webfont/raw/master/fonts/thsarabunnew-webfont.ttf\n",
        "\n",
        "# !pip install -U --pre matplotlib  \n",
        "import matplotlib as mpl\n",
        "mpl.font_manager.fontManager.addfont('thsarabunnew-webfont.ttf')\n",
        "mpl.rc('font', family='TH Sarabun New')"
      ],
      "execution_count": 762,
      "outputs": []
    },
    {
      "cell_type": "code",
      "metadata": {
        "id": "Tvaqt7TbrN19"
      },
      "source": [
        "dataset = pd.read_excel('/content/drive/Shared drives/D-Day_Project/วิเคราะห์ข้อมูล/Colab/Regression/BSCIT50-59 GRADES-BLINDED.xlsx')"
      ],
      "execution_count": 763,
      "outputs": []
    },
    {
      "cell_type": "code",
      "metadata": {
        "id": "5NQOvuIntP2q"
      },
      "source": [
        "# dataset.head()"
      ],
      "execution_count": 764,
      "outputs": []
    },
    {
      "cell_type": "code",
      "metadata": {
        "colab": {
          "base_uri": "https://localhost:8080/"
        },
        "id": "nygcfhUN2Wvx",
        "outputId": "c13167a8-83f7-414a-e500-99e7e589bb48"
      },
      "source": [
        "dataset.info()"
      ],
      "execution_count": 765,
      "outputs": [
        {
          "output_type": "stream",
          "text": [
            "<class 'pandas.core.frame.DataFrame'>\n",
            "RangeIndex: 599 entries, 0 to 598\n",
            "Data columns (total 13 columns):\n",
            " #   Column                                   Non-Null Count  Dtype  \n",
            "---  ------                                   --------------  -----  \n",
            " 0   Yr                                       599 non-null    int64  \n",
            " 1   Program                                  599 non-null    object \n",
            " 2   โครงการ                                  339 non-null    object \n",
            " 3   School GPAX                              599 non-null    float64\n",
            " 4   คณิตศาสตร์                               238 non-null    float64\n",
            " 5   วิทยาศาสตร์                              238 non-null    float64\n",
            " 6   ภาษาต่างประเทศ                           309 non-null    float64\n",
            " 7   คะแนนสอบสัมภาษณ์                         71 non-null     float64\n",
            " 8   SIT GPAX in 1/59                         599 non-null    float64\n",
            " 9   Predicted GPAX using all students model  599 non-null    float64\n",
            " 10  สถานศึกษา                                599 non-null    object \n",
            " 11  จังหวัดสถานศึกษา                         599 non-null    object \n",
            " 12  เขตสถานศึกษา                             313 non-null    object \n",
            "dtypes: float64(7), int64(1), object(5)\n",
            "memory usage: 61.0+ KB\n"
          ],
          "name": "stdout"
        }
      ]
    },
    {
      "cell_type": "markdown",
      "metadata": {
        "id": "FjNu6leo2gxM"
      },
      "source": [
        "## EDA"
      ]
    },
    {
      "cell_type": "code",
      "metadata": {
        "id": "IYuy3eR4jVHp"
      },
      "source": [
        "n_bins = 8"
      ],
      "execution_count": 766,
      "outputs": []
    },
    {
      "cell_type": "code",
      "metadata": {
        "colab": {
          "base_uri": "https://localhost:8080/",
          "height": 281
        },
        "id": "Guba42c22jEe",
        "outputId": "b13c4730-cf8e-4752-bdc3-1bd02265dc47"
      },
      "source": [
        "dataset['School GPAX'].plot.hist(bins=n_bins)"
      ],
      "execution_count": 767,
      "outputs": [
        {
          "output_type": "execute_result",
          "data": {
            "text/plain": [
              "<matplotlib.axes._subplots.AxesSubplot at 0x7fdce85d5e10>"
            ]
          },
          "metadata": {
            "tags": []
          },
          "execution_count": 767
        },
        {
          "output_type": "display_data",
          "data": {
            "image/png": "[encoded data removed]",
            "text/plain": [
              "<Figure size 432x288 with 1 Axes>"
            ]
          },
          "metadata": {
            "tags": [],
            "needs_background": "light"
          }
        }
      ]
    },
    {
      "cell_type": "code",
      "metadata": {
        "colab": {
          "base_uri": "https://localhost:8080/",
          "height": 281
        },
        "id": "b9pB-d8p2xex",
        "outputId": "8f179fe9-77d8-4c37-f979-78b1ef9f1f79"
      },
      "source": [
        "dataset['SIT GPAX in 1/59'].plot.hist(bins=n_bins)"
      ],
      "execution_count": 768,
      "outputs": [
        {
          "output_type": "execute_result",
          "data": {
            "text/plain": [
              "<matplotlib.axes._subplots.AxesSubplot at 0x7fdce857c350>"
            ]
          },
          "metadata": {
            "tags": []
          },
          "execution_count": 768
        },
        {
          "output_type": "display_data",
          "data": {
            "image/png": "[encoded data removed]",
            "text/plain": [
              "<Figure size 432x288 with 1 Axes>"
            ]
          },
          "metadata": {
            "tags": [],
            "needs_background": "light"
          }
        }
      ]
    },
    {
      "cell_type": "markdown",
      "metadata": {
        "id": "jyauZmbt0Ots"
      },
      "source": [
        "## Data Preprocessing"
      ]
    },
    {
      "cell_type": "code",
      "metadata": {
        "id": "NnezG1Hi3d6_"
      },
      "source": [
        "# Define function\n",
        "\n",
        "def inputClass(score):\n",
        "  if score >= 3.5:\n",
        "    return 5\n",
        "  elif score >= 3:\n",
        "    return 4\n",
        "  elif score >= 2.5:\n",
        "    return 3\n",
        "  elif score >= 2:\n",
        "    return 2\n",
        "  else:\n",
        "    return 1\n",
        "\n",
        "def outputClass(score):\n",
        "  if score >= 3.5:\n",
        "    return 5\n",
        "  elif score >= 3:\n",
        "    return 4\n",
        "  elif score >= 2.5:\n",
        "    return 3\n",
        "  elif score >= 2:\n",
        "    return 2\n",
        "  else:\n",
        "    return 1"
      ],
      "execution_count": 769,
      "outputs": []
    },
    {
      "cell_type": "code",
      "metadata": {
        "id": "tlPEUyM049M4"
      },
      "source": [
        "df = dataset\n",
        "# df = df.dropna(subset=[\"ภาษาต่างประเทศ\", \"คณิตศาสตร์\", \"วิทยาศาสตร์\"])\n",
        "\n",
        "# หลังจาก drop แล้ว ให้เรียง index ใหม่\n",
        "df.index = range(len(df))"
      ],
      "execution_count": 770,
      "outputs": []
    },
    {
      "cell_type": "code",
      "metadata": {
        "colab": {
          "base_uri": "https://localhost:8080/"
        },
        "id": "mjna0yb3biLz",
        "outputId": "1a2eb2d8-6ad7-4dcb-db9b-ec9ce0c48822"
      },
      "source": [
        "len(df)"
      ],
      "execution_count": 771,
      "outputs": [
        {
          "output_type": "execute_result",
          "data": {
            "text/plain": [
              "599"
            ]
          },
          "metadata": {
            "tags": []
          },
          "execution_count": 771
        }
      ]
    },
    {
      "cell_type": "code",
      "metadata": {
        "id": "nzCkw9dD4kUK"
      },
      "source": [
        "# School GPAX to class\n",
        "\n",
        "df[\"School_class\"] = df[\"School GPAX\"] # สร้าง column ใหม่ชื่อ School_class โดย copy จาก School GPAX"
      ],
      "execution_count": 772,
      "outputs": []
    },
    {
      "cell_type": "code",
      "metadata": {
        "id": "93Egz6K1464C"
      },
      "source": [
        "for i in range(len(df)):\n",
        "  df[\"School_class\"][i] = inputClass(df[\"School GPAX\"][i])\n",
        "df[\"School_class\"] = pd.to_numeric(df[\"School_class\"])"
      ],
      "execution_count": 773,
      "outputs": []
    },
    {
      "cell_type": "code",
      "metadata": {
        "id": "N_NR55YZ6X1S"
      },
      "source": [
        "# School SIT to class\n",
        "\n",
        "df[\"SIT_class\"] = df[\"SIT GPAX in 1/59\"]\n",
        "\n",
        "for i in range(len(df)):\n",
        "  df[\"SIT_class\"][i] = outputClass(df[\"SIT GPAX in 1/59\"][i])\n",
        "df[\"SIT_class\"] = pd.to_numeric(df[\"SIT_class\"])"
      ],
      "execution_count": 774,
      "outputs": []
    },
    {
      "cell_type": "code",
      "metadata": {
        "id": "SYpx99bzZDCv"
      },
      "source": [
        "# Subject to class\n",
        "\n",
        "df[\"math_class\"] = df[\"คณิตศาสตร์\"]\n",
        "df[\"sci_class\"] = df[\"วิทยาศาสตร์\"]\n",
        "df[\"eng_class\"] = df[\"ภาษาต่างประเทศ\"]\n",
        "\n",
        "for i in range(len(df)):\n",
        "  df[\"math_class\"][i] = inputClass(df[\"คณิตศาสตร์\"][i])\n",
        "df[\"math_class\"] = pd.to_numeric(df[\"math_class\"])\n",
        "\n",
        "for i in range(len(df)):\n",
        "  df[\"sci_class\"][i] = inputClass(df[\"วิทยาศาสตร์\"][i])\n",
        "df[\"sci_class\"] = pd.to_numeric(df[\"sci_class\"])\n",
        "\n",
        "for i in range(len(df)):\n",
        "  df[\"eng_class\"][i] = inputClass(df[\"ภาษาต่างประเทศ\"][i])\n",
        "df[\"eng_class\"] = pd.to_numeric(df[\"eng_class\"])"
      ],
      "execution_count": 775,
      "outputs": []
    },
    {
      "cell_type": "code",
      "metadata": {
        "colab": {
          "base_uri": "https://localhost:8080/",
          "height": 346
        },
        "id": "KQZ8dE916e2r",
        "outputId": "6cf484e2-37e9-4699-b72e-45d755e928c8"
      },
      "source": [
        "df.head()"
      ],
      "execution_count": 776,
      "outputs": [
        {
          "output_type": "execute_result",
          "data": {
            "text/html": [
              "<div>\n",
              "<style scoped>\n",
              "    .dataframe tbody tr th:only-of-type {\n",
              "        vertical-align: middle;\n",
              "    }\n",
              "\n",
              "    .dataframe tbody tr th {\n",
              "        vertical-align: top;\n",
              "    }\n",
              "\n",
              "    .dataframe thead th {\n",
              "        text-align: right;\n",
              "    }\n",
              "</style>\n",
              "<table border=\"1\" class=\"dataframe\">\n",
              "  <thead>\n",
              "    <tr style=\"text-align: right;\">\n",
              "      <th></th>\n",
              "      <th>Yr</th>\n",
              "      <th>Program</th>\n",
              "      <th>โครงการ</th>\n",
              "      <th>School GPAX</th>\n",
              "      <th>คณิตศาสตร์</th>\n",
              "      <th>วิทยาศาสตร์</th>\n",
              "      <th>ภาษาต่างประเทศ</th>\n",
              "      <th>คะแนนสอบสัมภาษณ์</th>\n",
              "      <th>SIT GPAX in 1/59</th>\n",
              "      <th>Predicted GPAX using all students model</th>\n",
              "      <th>สถานศึกษา</th>\n",
              "      <th>จังหวัดสถานศึกษา</th>\n",
              "      <th>เขตสถานศึกษา</th>\n",
              "      <th>School_class</th>\n",
              "      <th>SIT_class</th>\n",
              "      <th>math_class</th>\n",
              "      <th>sci_class</th>\n",
              "      <th>eng_class</th>\n",
              "    </tr>\n",
              "  </thead>\n",
              "  <tbody>\n",
              "    <tr>\n",
              "      <th>0</th>\n",
              "      <td>57</td>\n",
              "      <td>BScIT</td>\n",
              "      <td>เรียนดี</td>\n",
              "      <td>3.27</td>\n",
              "      <td>NaN</td>\n",
              "      <td>NaN</td>\n",
              "      <td>2.91</td>\n",
              "      <td>3.11</td>\n",
              "      <td>1.98</td>\n",
              "      <td>2.73691</td>\n",
              "      <td>S000-0</td>\n",
              "      <td>กรุงเทพมหานคร</td>\n",
              "      <td>ทุ่งครุ</td>\n",
              "      <td>4.0</td>\n",
              "      <td>1.0</td>\n",
              "      <td>1.0</td>\n",
              "      <td>1.0</td>\n",
              "      <td>3.0</td>\n",
              "    </tr>\n",
              "    <tr>\n",
              "      <th>1</th>\n",
              "      <td>57</td>\n",
              "      <td>BScIT</td>\n",
              "      <td>เรียนดี</td>\n",
              "      <td>3.47</td>\n",
              "      <td>NaN</td>\n",
              "      <td>NaN</td>\n",
              "      <td>3.84</td>\n",
              "      <td>3.48</td>\n",
              "      <td>2.53</td>\n",
              "      <td>2.82351</td>\n",
              "      <td>S001-0</td>\n",
              "      <td>ปราจีนบุรี</td>\n",
              "      <td>NaN</td>\n",
              "      <td>4.0</td>\n",
              "      <td>3.0</td>\n",
              "      <td>1.0</td>\n",
              "      <td>1.0</td>\n",
              "      <td>5.0</td>\n",
              "    </tr>\n",
              "    <tr>\n",
              "      <th>2</th>\n",
              "      <td>59</td>\n",
              "      <td>BScIT</td>\n",
              "      <td>เรียนดี</td>\n",
              "      <td>3.64</td>\n",
              "      <td>3.67</td>\n",
              "      <td>3.66</td>\n",
              "      <td>3.47</td>\n",
              "      <td>NaN</td>\n",
              "      <td>3.06</td>\n",
              "      <td>2.89712</td>\n",
              "      <td>S002-0</td>\n",
              "      <td>กรุงเทพมหานคร</td>\n",
              "      <td>หนองแขม</td>\n",
              "      <td>5.0</td>\n",
              "      <td>4.0</td>\n",
              "      <td>5.0</td>\n",
              "      <td>5.0</td>\n",
              "      <td>4.0</td>\n",
              "    </tr>\n",
              "    <tr>\n",
              "      <th>3</th>\n",
              "      <td>59</td>\n",
              "      <td>BScIT</td>\n",
              "      <td>เรียนดี</td>\n",
              "      <td>3.40</td>\n",
              "      <td>3.45</td>\n",
              "      <td>3.41</td>\n",
              "      <td>3.30</td>\n",
              "      <td>NaN</td>\n",
              "      <td>2.25</td>\n",
              "      <td>2.79320</td>\n",
              "      <td>S002-0</td>\n",
              "      <td>กรุงเทพมหานคร</td>\n",
              "      <td>หนองแขม</td>\n",
              "      <td>4.0</td>\n",
              "      <td>2.0</td>\n",
              "      <td>4.0</td>\n",
              "      <td>4.0</td>\n",
              "      <td>4.0</td>\n",
              "    </tr>\n",
              "    <tr>\n",
              "      <th>4</th>\n",
              "      <td>57</td>\n",
              "      <td>BScIT</td>\n",
              "      <td>เรียนดี</td>\n",
              "      <td>3.40</td>\n",
              "      <td>NaN</td>\n",
              "      <td>NaN</td>\n",
              "      <td>2.90</td>\n",
              "      <td>3.32</td>\n",
              "      <td>2.70</td>\n",
              "      <td>2.79320</td>\n",
              "      <td>S002-0</td>\n",
              "      <td>กรุงเทพมหานคร</td>\n",
              "      <td>หนองแขม</td>\n",
              "      <td>4.0</td>\n",
              "      <td>3.0</td>\n",
              "      <td>1.0</td>\n",
              "      <td>1.0</td>\n",
              "      <td>3.0</td>\n",
              "    </tr>\n",
              "  </tbody>\n",
              "</table>\n",
              "</div>"
            ],
            "text/plain": [
              "   Yr Program  โครงการ  ...  math_class  sci_class  eng_class\n",
              "0  57   BScIT  เรียนดี  ...         1.0        1.0        3.0\n",
              "1  57   BScIT  เรียนดี  ...         1.0        1.0        5.0\n",
              "2  59   BScIT  เรียนดี  ...         5.0        5.0        4.0\n",
              "3  59   BScIT  เรียนดี  ...         4.0        4.0        4.0\n",
              "4  57   BScIT  เรียนดี  ...         1.0        1.0        3.0\n",
              "\n",
              "[5 rows x 18 columns]"
            ]
          },
          "metadata": {
            "tags": []
          },
          "execution_count": 776
        }
      ]
    },
    {
      "cell_type": "markdown",
      "metadata": {
        "id": "Kk1dl6pT7qMY"
      },
      "source": [
        "### Splitting Data"
      ]
    },
    {
      "cell_type": "code",
      "metadata": {
        "id": "azHovUxg7ux8"
      },
      "source": [
        "# X = np.array(df[['School_class', \"math_class\", \"eng_class\", \"sci_class\"]]) \n",
        "X = np.array(df[['School_class']]) # .reshape(1,-1)\n",
        "y = np.array(df['SIT_class'])"
      ],
      "execution_count": 777,
      "outputs": []
    },
    {
      "cell_type": "code",
      "metadata": {
        "colab": {
          "base_uri": "https://localhost:8080/"
        },
        "id": "2XtWJrMl9D--",
        "outputId": "c2ffb61a-db3a-494e-8f16-a83f4e3ac980"
      },
      "source": [
        "len(X)"
      ],
      "execution_count": 778,
      "outputs": [
        {
          "output_type": "execute_result",
          "data": {
            "text/plain": [
              "599"
            ]
          },
          "metadata": {
            "tags": []
          },
          "execution_count": 778
        }
      ]
    },
    {
      "cell_type": "code",
      "metadata": {
        "id": "PuoPSjwr8sTO"
      },
      "source": [
        "X_train, X_test, y_train, y_test = train_test_split(X, y , train_size=0.8) # train size 0.8 คือ แบ่งไว้เทรน 80%"
      ],
      "execution_count": 779,
      "outputs": []
    },
    {
      "cell_type": "code",
      "metadata": {
        "colab": {
          "base_uri": "https://localhost:8080/"
        },
        "id": "pPtoiQ769BDe",
        "outputId": "6c550bb6-ec4b-46d4-b0de-eb53662416bd"
      },
      "source": [
        "print(len(X_train))\n",
        "print(len(X_test))"
      ],
      "execution_count": 780,
      "outputs": [
        {
          "output_type": "stream",
          "text": [
            "479\n",
            "120\n"
          ],
          "name": "stdout"
        }
      ]
    },
    {
      "cell_type": "markdown",
      "metadata": {
        "id": "8sw7kGc_0T5H"
      },
      "source": [
        "## Modelling"
      ]
    },
    {
      "cell_type": "markdown",
      "metadata": {
        "id": "kQjiXbM669a3"
      },
      "source": [
        "### K-fold"
      ]
    },
    {
      "cell_type": "code",
      "metadata": {
        "id": "vqnCGucO9BL1"
      },
      "source": [
        "KNN = KNeighborsClassifier(n_neighbors=3)\n",
        "RFC = RandomForestClassifier(n_estimators=50,random_state=1)\n",
        "LG  = LogisticRegression(random_state=0)\n",
        "DTC = DecisionTreeClassifier(random_state=0)\n",
        "MLP = MLPClassifier(random_state=0)"
      ],
      "execution_count": 781,
      "outputs": []
    },
    {
      "cell_type": "code",
      "metadata": {
        "id": "guGfFE2y9HaE"
      },
      "source": [
        "knn_score = []\n",
        "rfc_score = []\n",
        "lg_score  = []\n",
        "dtc_score  = []\n",
        "mlp_score  = []"
      ],
      "execution_count": 782,
      "outputs": []
    },
    {
      "cell_type": "code",
      "metadata": {
        "id": "phq76P9oDR1p"
      },
      "source": [
        "def kfold_score(model):\n",
        "  model.fit(X_train_k,y_train_k)\n",
        "  pred = model.predict(X_test_k)\n",
        "  accur = accuracy_score(y_test_k,pred)\n",
        "  return accur"
      ],
      "execution_count": 783,
      "outputs": []
    },
    {
      "cell_type": "code",
      "metadata": {
        "id": "l2ZNuZo9GkeC"
      },
      "source": [
        "n_splits = 5\n",
        "cv = KFold(n_splits)"
      ],
      "execution_count": 784,
      "outputs": []
    },
    {
      "cell_type": "code",
      "metadata": {
        "id": "_D4JNlHX6hPw"
      },
      "source": [
        "for train_index, test_index in cv.split(X):\n",
        "    X_train_k, y_train_k = X[train_index], y[train_index]\n",
        "    X_test_k, y_test_k   = X[test_index], y[test_index]\n",
        "\n",
        "    # KNN.fit(X_train_k,y_train_k)\n",
        "    # RFC.fit(X_train_k,y_train_k)\n",
        "    # LG.fit(X_train_k,y_train_k)\n",
        "    # DTC.fit(X_train_k,y_train_k)\n",
        "\n",
        "    # pred_KNN=KNN.predict(X_test_k)\n",
        "    # pred_RFC=RFC.predict(X_test_k)\n",
        "    # pred_LG=LG.predict(X_test_k)\n",
        "    # pred_DTC=DTC.predict(X_test_k)\n",
        "\n",
        "    # accur_KNN=accuracy_score(y_test_k,pred_KNN)\n",
        "    # accur_RFC=accuracy_score(y_test_k,pred_RFC)\n",
        "    # accur_LG=accuracy_score(y_test_k,pred_LG)\n",
        "    # accur_DTC=accuracy_score(y_test_k,pred_DTC)\n",
        "\n",
        "    knn_score.append(kfold_score(KNN))\n",
        "    rfc_score.append(kfold_score(RFC))\n",
        "    lg_score.append(kfold_score(LG))\n",
        "    dtc_score.append(kfold_score(DTC))\n",
        "    mlp_score.append(kfold_score(MLP))"
      ],
      "execution_count": 785,
      "outputs": []
    },
    {
      "cell_type": "code",
      "metadata": {
        "id": "AOIHXbM1-MW6"
      },
      "source": [
        "def show_score(model_name,score):\n",
        "  print(model_name)\n",
        "  print(\"-\" * len(model_name))\n",
        "  print(\"Mean:\\t\",np.mean(score))\n",
        "  print(\"Max:\\t\",np.max(score))\n",
        "  print(\"Min:\\t\",np.min(score))\n",
        "  print(\"S.D.:\\t\",np.std(score))\n",
        "  print(score,\"\\n\")"
      ],
      "execution_count": 786,
      "outputs": []
    },
    {
      "cell_type": "code",
      "metadata": {
        "colab": {
          "base_uri": "https://localhost:8080/"
        },
        "id": "A_oKqhoa_pSk",
        "outputId": "c5ff5a70-aaaa-4707-be2b-6aab0e95ad82"
      },
      "source": [
        "show_score(\"KNeighborsClassifier\", knn_score)\n",
        "show_score(\"RandomForestClassifier\", rfc_score)\n",
        "show_score(\"LogisticRegression\", lg_score)\n",
        "show_score(\"DecisionTreeClassifier\", dtc_score)\n",
        "show_score(\"MLPClassifier\", mlp_score)"
      ],
      "execution_count": 787,
      "outputs": [
        {
          "output_type": "stream",
          "text": [
            "KNeighborsClassifier\n",
            "--------------------\n",
            "Mean:\t 0.18056022408963585\n",
            "Max:\t 0.33613445378151263\n",
            "Min:\t 0.09166666666666666\n",
            "S.D.:\t 0.08894912223943707\n",
            "[0.20833333333333334, 0.09166666666666666, 0.16666666666666666, 0.1, 0.33613445378151263] \n",
            "\n",
            "RandomForestClassifier\n",
            "----------------------\n",
            "Mean:\t 0.3688795518207283\n",
            "Max:\t 0.4083333333333333\n",
            "Min:\t 0.325\n",
            "S.D.:\t 0.03564437051816634\n",
            "[0.325, 0.4, 0.4083333333333333, 0.38333333333333336, 0.3277310924369748] \n",
            "\n",
            "LogisticRegression\n",
            "------------------\n",
            "Mean:\t 0.37554621848739494\n",
            "Max:\t 0.4166666666666667\n",
            "Min:\t 0.325\n",
            "S.D.:\t 0.04050945586216677\n",
            "[0.325, 0.4, 0.4083333333333333, 0.4166666666666667, 0.3277310924369748] \n",
            "\n",
            "DecisionTreeClassifier\n",
            "----------------------\n",
            "Mean:\t 0.3638375350140056\n",
            "Max:\t 0.4083333333333333\n",
            "Min:\t 0.3025210084033613\n",
            "S.D.:\t 0.04227471266751182\n",
            "[0.325, 0.4, 0.4083333333333333, 0.38333333333333336, 0.3025210084033613] \n",
            "\n",
            "MLPClassifier\n",
            "-------------\n",
            "Mean:\t 0.3604201680672269\n",
            "Max:\t 0.4166666666666667\n",
            "Min:\t 0.25210084033613445\n",
            "S.D.:\t 0.06326700273028112\n",
            "[0.325, 0.4, 0.4083333333333333, 0.4166666666666667, 0.25210084033613445] \n",
            "\n"
          ],
          "name": "stdout"
        }
      ]
    },
    {
      "cell_type": "markdown",
      "metadata": {
        "id": "k6T_IB7r1Zu5"
      },
      "source": [
        "## Evaluation"
      ]
    },
    {
      "cell_type": "code",
      "metadata": {
        "id": "vggKucxI-cJv"
      },
      "source": [
        "MLP = MLPClassifier(random_state=0) # สร้างโมเดลเปล่า\n",
        "MLP.fit(X_train,y_train) # เอามาเทรน\n",
        "y_pred = MLP.predict(X_test) # เอาโมเดลที่เทรนแล้วไปทำนาย X_test แล้วใส่ใน y_pred"
      ],
      "execution_count": 788,
      "outputs": []
    },
    {
      "cell_type": "code",
      "metadata": {
        "id": "sCPwnrI2BWVN",
        "colab": {
          "base_uri": "https://localhost:8080/"
        },
        "outputId": "be4552f7-5cc9-43e0-a685-b6ab6c5faf92"
      },
      "source": [
        "MLP.score(X_train,y_train)"
      ],
      "execution_count": 789,
      "outputs": [
        {
          "output_type": "execute_result",
          "data": {
            "text/plain": [
              "0.3736951983298539"
            ]
          },
          "metadata": {
            "tags": []
          },
          "execution_count": 789
        }
      ]
    },
    {
      "cell_type": "code",
      "metadata": {
        "id": "SuXSmrGGBs2Z",
        "colab": {
          "base_uri": "https://localhost:8080/"
        },
        "outputId": "2b482e8e-0f2e-476f-bdf1-cfdd0c794743"
      },
      "source": [
        "accuracy_score(y_test, y_pred)"
      ],
      "execution_count": 790,
      "outputs": [
        {
          "output_type": "execute_result",
          "data": {
            "text/plain": [
              "0.38333333333333336"
            ]
          },
          "metadata": {
            "tags": []
          },
          "execution_count": 790
        }
      ]
    },
    {
      "cell_type": "code",
      "metadata": {
        "id": "BzAYuKy0Bzqa",
        "colab": {
          "base_uri": "https://localhost:8080/"
        },
        "outputId": "2e81cefd-9b14-4a8e-bc97-10824d510dcc"
      },
      "source": [
        "print(classification_report(y_test, y_pred))"
      ],
      "execution_count": 791,
      "outputs": [
        {
          "output_type": "stream",
          "text": [
            "              precision    recall  f1-score   support\n",
            "\n",
            "         1.0       0.00      0.00      0.00         5\n",
            "         2.0       0.50      0.21      0.30        28\n",
            "         3.0       0.37      0.89      0.52        45\n",
            "         4.0       0.00      0.00      0.00        31\n",
            "         5.0       0.00      0.00      0.00        11\n",
            "\n",
            "    accuracy                           0.38       120\n",
            "   macro avg       0.17      0.22      0.16       120\n",
            "weighted avg       0.26      0.38      0.27       120\n",
            "\n"
          ],
          "name": "stdout"
        }
      ]
    },
    {
      "cell_type": "code",
      "metadata": {
        "id": "Dt8gCZf7CGlj",
        "colab": {
          "base_uri": "https://localhost:8080/"
        },
        "outputId": "19cacbea-95c5-4816-cecb-c69d9a27027b"
      },
      "source": [
        "matrix = confusion_matrix(y_test, y_pred)\n",
        "matrix"
      ],
      "execution_count": 792,
      "outputs": [
        {
          "output_type": "execute_result",
          "data": {
            "text/plain": [
              "array([[ 0,  1,  4,  0,  0],\n",
              "       [ 0,  6, 22,  0,  0],\n",
              "       [ 0,  5, 40,  0,  0],\n",
              "       [ 0,  0, 31,  0,  0],\n",
              "       [ 0,  0, 11,  0,  0]])"
            ]
          },
          "metadata": {
            "tags": []
          },
          "execution_count": 792
        }
      ]
    },
    {
      "cell_type": "code",
      "metadata": {
        "id": "iK62Xo6pCOgm",
        "colab": {
          "base_uri": "https://localhost:8080/",
          "height": 310
        },
        "outputId": "e1c4d4aa-4b3b-47a3-c4a6-e71b4f0c8ba8"
      },
      "source": [
        "! pip install -q scikit-plot\n",
        "import scikitplot as skplt\n",
        "\n",
        "skplt.metrics.plot_confusion_matrix(\n",
        "    y_test, \n",
        "    y_pred),\n",
        "    #figsize=(12,12))"
      ],
      "execution_count": 793,
      "outputs": [
        {
          "output_type": "execute_result",
          "data": {
            "text/plain": [
              "(<matplotlib.axes._subplots.AxesSubplot at 0x7fdce8496110>,)"
            ]
          },
          "metadata": {
            "tags": []
          },
          "execution_count": 793
        },
        {
          "output_type": "display_data",
          "data": {
            "image/png": "[encoded data removed]",
            "text/plain": [
              "<Figure size 432x288 with 2 Axes>"
            ]
          },
          "metadata": {
            "tags": [],
            "needs_background": "light"
          }
        }
      ]
    },
    {
      "cell_type": "code",
      "metadata": {
        "id": "S2W4984-FAik",
        "colab": {
          "base_uri": "https://localhost:8080/"
        },
        "outputId": "46039aa3-8ba0-4cd7-dcff-caa4d433d89a"
      },
      "source": [
        "scores = cross_val_score(clf, X_train, y_train, cv=5)\n",
        "# ทำ cross_val_score โดยใช้โมเดลเปล่า clf มาทำสอบใน k-fold แบ่งเป็น 5 fold\n",
        "show_score(\"MLP\", scores)"
      ],
      "execution_count": 794,
      "outputs": [
        {
          "output_type": "stream",
          "text": [
            "MLP\n",
            "---\n",
            "Mean:\t 0.36328947368421055\n",
            "Max:\t 0.37894736842105264\n",
            "Min:\t 0.3541666666666667\n",
            "S.D.:\t 0.009110093621165247\n",
            "[0.36458333 0.35416667 0.36458333 0.35416667 0.37894737] \n",
            "\n"
          ],
          "name": "stdout"
        }
      ]
    },
    {
      "cell_type": "code",
      "metadata": {
        "colab": {
          "base_uri": "https://localhost:8080/"
        },
        "id": "d3JrlcdDUxpV",
        "outputId": "ce7df53b-27ae-4061-997d-586339d7ca8b"
      },
      "source": [
        "for i in range(len(matrix)):\n",
        "  class_num = i+1\n",
        "  print(\"Class {} ({})\".format(class_num, matrix[i].sum()))\n",
        "  for n in range(len(matrix[i])):\n",
        "    pred_num = n+1\n",
        "    score = matrix[i][n]\n",
        "    # print(\" - predict Class {}: {}\".format(pred_num, score))\n",
        "    # print(\" - predict Class {}: {:.0%}\".format(pred_num, score/matrix[i].sum()))\n",
        "    if i==n:\n",
        "      print(\">> predict Class {}: {:0.2f}\".format(pred_num, score/matrix[i].sum()))\n",
        "    else:\n",
        "      print(\" - predict Class {}: {:0.2f}\".format(pred_num, score/matrix[i].sum()))"
      ],
      "execution_count": 795,
      "outputs": [
        {
          "output_type": "stream",
          "text": [
            "Class 1 (5)\n",
            ">> predict Class 1: 0.00\n",
            " - predict Class 2: 0.20\n",
            " - predict Class 3: 0.80\n",
            " - predict Class 4: 0.00\n",
            " - predict Class 5: 0.00\n",
            "Class 2 (28)\n",
            " - predict Class 1: 0.00\n",
            ">> predict Class 2: 0.21\n",
            " - predict Class 3: 0.79\n",
            " - predict Class 4: 0.00\n",
            " - predict Class 5: 0.00\n",
            "Class 3 (45)\n",
            " - predict Class 1: 0.00\n",
            " - predict Class 2: 0.11\n",
            ">> predict Class 3: 0.89\n",
            " - predict Class 4: 0.00\n",
            " - predict Class 5: 0.00\n",
            "Class 4 (31)\n",
            " - predict Class 1: 0.00\n",
            " - predict Class 2: 0.00\n",
            " - predict Class 3: 1.00\n",
            ">> predict Class 4: 0.00\n",
            " - predict Class 5: 0.00\n",
            "Class 5 (11)\n",
            " - predict Class 1: 0.00\n",
            " - predict Class 2: 0.00\n",
            " - predict Class 3: 1.00\n",
            " - predict Class 4: 0.00\n",
            ">> predict Class 5: 0.00\n"
          ],
          "name": "stdout"
        }
      ]
    }
  ]
}