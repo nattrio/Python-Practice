{
 "nbformat": 4,
 "nbformat_minor": 2,
 "metadata": {
  "language_info": {
   "name": "python",
   "codemirror_mode": {
    "name": "ipython",
    "version": 3
   },
   "version": "3.7.4-final"
  },
  "orig_nbformat": 2,
  "file_extension": ".py",
  "mimetype": "text/x-python",
  "name": "python",
  "npconvert_exporter": "python",
  "pygments_lexer": "ipython3",
  "version": 3,
  "kernelspec": {
   "name": "python3",
   "display_name": "Python 3"
  }
 },
 "cells": [
  {
   "cell_type": "code",
   "execution_count": 40,
   "metadata": {},
   "outputs": [
    {
     "name": "stdout",
     "output_type": "stream",
     "text": "4\nog\nFROG\n"
    },
    {
     "data": {
      "text/plain": "'fro'"
     },
     "execution_count": 40,
     "metadata": {},
     "output_type": "execute_result"
    }
   ],
   "source": [
    "word = \"frog\"\n",
    "print (len(word))\n",
    "print (word[2:4])\n",
    "print (word.upper())\n",
    "word[0:len(word)-1]"
   ]
  },
  {
   "cell_type": "code",
   "execution_count": 37,
   "metadata": {},
   "outputs": [
    {
     "data": {
      "text/plain": "'12 34 56 79'"
     },
     "execution_count": 37,
     "metadata": {},
     "output_type": "execute_result"
    }
   ],
   "source": [
    "# s = '12345679'\n",
    "# t = iter(s)\n",
    "# ' '.join(a+b for a,b in zip(t, t))"
   ]
  },
  {
   "cell_type": "code",
   "execution_count": 38,
   "metadata": {},
   "outputs": [
    {
     "data": {
      "text/plain": "'23:ed:fd:56:ab:90'"
     },
     "execution_count": 38,
     "metadata": {},
     "output_type": "execute_result"
    }
   ],
   "source": [
    "# s = '23edfd56ab90'\n",
    "# ':'.join([ i+j for i,j in zip(s[::2],s[1::2])])"
   ]
  },
  {
   "cell_type": "code",
   "execution_count": 46,
   "metadata": {},
   "outputs": [
    {
     "data": {
      "text/plain": "'G a m e r s   L o v e r'"
     },
     "execution_count": 46,
     "metadata": {},
     "output_type": "execute_result"
    }
   ],
   "source": [
    "def illuminati(word):\n",
    "    return ' '.join(word[i:i+1] for i in range(0,len(word),1))\n",
    "\n",
    "illuminati('Gamers Lover')"
   ]
  },
  {
   "cell_type": "code",
   "execution_count": 49,
   "metadata": {},
   "outputs": [
    {
     "data": {
      "text/plain": "'GAM ERS  LO VER'"
     },
     "execution_count": 49,
     "metadata": {},
     "output_type": "execute_result"
    }
   ],
   "source": [
    "def illuminatiN(word,length):\n",
    "    return ' '.join(word[i:i+length] for i in range(0,len(word),length)).upper()\n",
    "\n",
    "illuminatiN('Gamers Lover',3)"
   ]
  }
 ]
}