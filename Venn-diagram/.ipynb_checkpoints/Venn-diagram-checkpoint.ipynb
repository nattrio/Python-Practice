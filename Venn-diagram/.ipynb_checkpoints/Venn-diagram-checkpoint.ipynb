{
 "cells": [
  {
   "cell_type": "code",
   "execution_count": 22,
   "metadata": {},
   "outputs": [],
   "source": [
    "# Import the library\n",
    "import pandas as pd\n",
    "import matplotlib.pyplot as plt\n",
    "from matplotlib_venn import venn2, venn2_circles, venn2_unweighted\n",
    "from matplotlib_venn import venn3, venn3_circles\n",
    "from matplotlib import pyplot as plt\n",
    "import seaborn as sns\n",
    "sns.set()\n",
    "%matplotlib inline"
   ]
  },
  {
   "cell_type": "code",
   "execution_count": 23,
   "metadata": {},
   "outputs": [],
   "source": [
    "df = pd.read_csv(\"data.csv\")"
   ]
  },
  {
   "cell_type": "code",
   "execution_count": 24,
   "metadata": {},
   "outputs": [
    {
     "name": "stdout",
     "output_type": "stream",
     "text": "There are 13 rows\n"
    },
    {
     "data": {
      "text/html": "<div>\n<style scoped>\n    .dataframe tbody tr th:only-of-type {\n        vertical-align: middle;\n    }\n\n    .dataframe tbody tr th {\n        vertical-align: top;\n    }\n\n    .dataframe thead th {\n        text-align: right;\n    }\n</style>\n<table border=\"1\" class=\"dataframe\">\n  <thead>\n    <tr style=\"text-align: right;\">\n      <th></th>\n      <th>name</th>\n      <th>language</th>\n    </tr>\n  </thead>\n  <tbody>\n    <tr>\n      <td>0</td>\n      <td>Beam</td>\n      <td>Thai</td>\n    </tr>\n    <tr>\n      <td>1</td>\n      <td>Beam</td>\n      <td>English</td>\n    </tr>\n    <tr>\n      <td>2</td>\n      <td>Dave</td>\n      <td>Thai</td>\n    </tr>\n    <tr>\n      <td>3</td>\n      <td>Anna</td>\n      <td>Chinese</td>\n    </tr>\n    <tr>\n      <td>4</td>\n      <td>Dave</td>\n      <td>English</td>\n    </tr>\n    <tr>\n      <td>5</td>\n      <td>Coco</td>\n      <td>Chinese</td>\n    </tr>\n    <tr>\n      <td>6</td>\n      <td>Earn</td>\n      <td>Thai</td>\n    </tr>\n    <tr>\n      <td>7</td>\n      <td>Coco</td>\n      <td>English</td>\n    </tr>\n    <tr>\n      <td>8</td>\n      <td>Beam</td>\n      <td>Chinese</td>\n    </tr>\n    <tr>\n      <td>9</td>\n      <td>Earn</td>\n      <td>English</td>\n    </tr>\n    <tr>\n      <td>10</td>\n      <td>Coco</td>\n      <td>Thai</td>\n    </tr>\n    <tr>\n      <td>11</td>\n      <td>Fonn</td>\n      <td>English</td>\n    </tr>\n    <tr>\n      <td>12</td>\n      <td>Game</td>\n      <td>Thai</td>\n    </tr>\n  </tbody>\n</table>\n</div>",
      "text/plain": "    name language\n0   Beam     Thai\n1   Beam  English\n2   Dave     Thai\n3   Anna  Chinese\n4   Dave  English\n5   Coco  Chinese\n6   Earn     Thai\n7   Coco  English\n8   Beam  Chinese\n9   Earn  English\n10  Coco     Thai\n11  Fonn  English\n12  Game     Thai"
     },
     "metadata": {},
     "output_type": "display_data"
    }
   ],
   "source": [
    "print(\"There are\",len(df),\"rows\")\n",
    "display(df)"
   ]
  },
  {
   "cell_type": "markdown",
   "metadata": {},
   "source": [
    "### Get items from language features"
   ]
  },
  {
   "cell_type": "code",
   "execution_count": 25,
   "metadata": {},
   "outputs": [
    {
     "data": {
      "text/plain": "array(['Thai', 'English', 'Chinese'], dtype=object)"
     },
     "execution_count": 25,
     "metadata": {},
     "output_type": "execute_result"
    }
   ],
   "source": [
    "df['language'].unique()"
   ]
  },
  {
   "cell_type": "markdown",
   "metadata": {},
   "source": [
    "### Assign variables as set"
   ]
  },
  {
   "cell_type": "code",
   "execution_count": 26,
   "metadata": {},
   "outputs": [],
   "source": [
    "THAI = set()\n",
    "ENGLISH = set()\n",
    "CHINESE = set()"
   ]
  },
  {
   "cell_type": "markdown",
   "metadata": {},
   "source": [
    "### Put data to variables (Thai, English, Chinese)"
   ]
  },
  {
   "cell_type": "code",
   "execution_count": 27,
   "metadata": {},
   "outputs": [],
   "source": [
    "for index, row in df.iterrows():\n",
    "    student = row[\"name\"]\n",
    "    if row['language'] == \"Thai\":\n",
    "        THAI.add(student)\n",
    "    if row['language'] == \"English\":\n",
    "        ENGLISH.add(student)\n",
    "    if row['language'] == \"Chinese\":\n",
    "        CHINESE.add(student)            "
   ]
  },
  {
   "cell_type": "code",
   "execution_count": 28,
   "metadata": {},
   "outputs": [
    {
     "data": {
      "text/plain": "set"
     },
     "execution_count": 28,
     "metadata": {},
     "output_type": "execute_result"
    }
   ],
   "source": [
    "type(THAI)"
   ]
  },
  {
   "cell_type": "markdown",
   "metadata": {},
   "source": [
    "## Set variables for visualization"
   ]
  },
  {
   "cell_type": "code",
   "execution_count": 29,
   "metadata": {},
   "outputs": [],
   "source": [
    "student_Thai_Lang = list(THAI)\n",
    "\n",
    "student_English_Lang = list(ENGLISH)\n",
    "\n",
    "student_Chinese_Lang = list(CHINESE)"
   ]
  },
  {
   "cell_type": "code",
   "execution_count": 30,
   "metadata": {},
   "outputs": [],
   "source": [
    "set1 = set(student_Thai_Lang)\n",
    "\n",
    "set2 = set(student_English_Lang)\n",
    "\n",
    "set3 = set(student_Chinese_Lang)"
   ]
  },
  {
   "cell_type": "markdown",
   "metadata": {},
   "source": [
    "## Answer questions with data"
   ]
  },
  {
   "cell_type": "code",
   "execution_count": 31,
   "metadata": {},
   "outputs": [
    {
     "name": "stdout",
     "output_type": "stream",
     "text": "How many people who speak Thai:  5\nHow many people who speak English:  5\nHow many people who speak Chinese:  3\n"
    }
   ],
   "source": [
    "print(\"How many people who speak Thai: \",len(THAI))\n",
    "print(\"How many people who speak English: \",len(ENGLISH))\n",
    "print(\"How many people who speak Chinese: \",len(CHINESE))"
   ]
  },
  {
   "cell_type": "code",
   "execution_count": 32,
   "metadata": {},
   "outputs": [
    {
     "name": "stdout",
     "output_type": "stream",
     "text": "How many people who speak Thai but not English:  1\nHow many people who speak Chinese but not Thai:  1\nHow many people who speak English but not Chinese:  3\n"
    }
   ],
   "source": [
    "print(\"How many people who speak Thai but not English: \",len(THAI - ENGLISH))\n",
    "print(\"How many people who speak Chinese but not Thai: \",len(CHINESE - THAI))\n",
    "print(\"How many people who speak English but not Chinese: \",len(ENGLISH - CHINESE))"
   ]
  },
  {
   "cell_type": "code",
   "execution_count": 33,
   "metadata": {},
   "outputs": [
    {
     "name": "stdout",
     "output_type": "stream",
     "text": "How many people who speak Thai, English and Chinese:  2\nHow many people who speak Thai and English but not Chinese:  2\nHow many people who speak English or Chinese:  6\n"
    }
   ],
   "source": [
    "print(\"How many people who speak Thai, English and Chinese: \",len(THAI & ENGLISH & CHINESE))\n",
    "print(\"How many people who speak Thai and English but not Chinese: \",len(THAI & ENGLISH - CHINESE))\n",
    "print(\"How many people who speak English or Chinese: \",len(ENGLISH | CHINESE))"
   ]
  },
  {
   "cell_type": "code",
   "execution_count": 34,
   "metadata": {},
   "outputs": [
    {
     "name": "stdout",
     "output_type": "stream",
     "text": "How many people who speak only one language:  3\nHow many people who speak only one language:  3\n"
    }
   ],
   "source": [
    "print(\"How many people who speak only one language: \",len((THAI | ENGLISH | CHINESE) - (THAI & ENGLISH & CHINESE) - (THAI & ENGLISH) - (THAI & CHINESE) - (CHINESE & ENGLISH)))\n",
    "print(\"How many people who speak only one language: \",len(((THAI ^ ENGLISH) - CHINESE) | ((THAI ^ CHINESE) - ENGLISH) | ((CHINESE ^ ENGLISH) - THAI)))\n"
   ]
  },
  {
   "cell_type": "code",
   "execution_count": 35,
   "metadata": {},
   "outputs": [
    {
     "data": {
      "image/png": "[encoded data removed]",
      "image/svg+xml": "<?xml version=\"1.0\" encoding=\"utf-8\" standalone=\"no\"?>\r\n<!DOCTYPE svg PUBLIC \"-//W3C//DTD SVG 1.1//EN\"\r\n  \"http://www.w3.org/Graphics/SVG/1.1/DTD/svg11.dtd\">\r\n<!-- Created with matplotlib (https://matplotlib.org/) -->\r\n<svg height=\"288.267919pt\" version=\"1.1\" viewBox=\"0 0 277.03406 288.267919\" width=\"277.03406pt\" xmlns=\"http://www.w3.org/2000/svg\" xmlns:xlink=\"http://www.w3.org/1999/xlink\">\r\n <defs>\r\n  <style type=\"text/css\">\r\n*{stroke-linecap:butt;stroke-linejoin:round;}\r\n  </style>\r\n </defs>\r\n <g id=\"figure_1\">\r\n  <g id=\"patch_1\">\r\n   <path d=\"M 0 288.267919 \r\nL 277.03406 288.267919 \r\nL 277.03406 0 \r\nL 0 0 \r\nz\r\n\" style=\"fill:none;\"/>\r\n  </g>\r\n  <g id=\"axes_1\">\r\n   <g id=\"patch_2\">\r\n    <path clip-path=\"url(#p330496a5f3)\" d=\"M 137.107166 28.312453 \r\nC 116.213217 24.974939 94.791388 28.711668 76.261383 38.926122 \r\nC 57.731379 49.140575 43.134637 65.258672 34.80133 84.707376 \r\nC 26.468023 104.156081 24.866506 125.842322 30.252439 146.304185 \r\nC 35.638372 166.766049 47.709051 184.85352 64.537555 197.67918 \r\nC 63.593091 192.055851 63.305436 186.341752 63.680386 180.652002 \r\nC 64.055337 174.962252 65.090357 169.335317 66.764596 163.884558 \r\nC 60.235778 150.545057 56.925136 135.85857 57.099337 121.008069 \r\nC 57.273537 106.157567 60.927774 91.55278 67.767704 78.370099 \r\nC 74.607634 65.187417 84.444542 53.790554 96.486082 45.097508 \r\nC 108.527622 36.404462 122.441565 30.655076 137.107166 28.312453 \r\n\" style=\"fill:#84a9ff;opacity:0.9;\"/>\r\n   </g>\r\n   <g id=\"patch_3\">\r\n    <path clip-path=\"url(#p330496a5f3)\" d=\"M 137.107166 28.312453 \r\nC 151.772767 30.655076 165.68671 36.404462 177.72825 45.097508 \r\nC 189.76979 53.790554 199.606699 65.187417 206.446629 78.370099 \r\nC 213.286559 91.55278 216.940795 106.157567 217.114996 121.008069 \r\nC 217.289196 135.85857 213.978554 150.545057 207.449737 163.884558 \r\nC 209.123975 169.335317 210.158996 174.962252 210.533946 180.652002 \r\nC 210.908896 186.341752 210.621242 192.055851 209.676777 197.67918 \r\nC 226.505281 184.85352 238.57596 166.766049 243.961893 146.304185 \r\nC 249.347826 125.842322 247.746309 104.156081 239.413002 84.707376 \r\nC 231.079695 65.258672 216.482954 49.140575 197.952949 38.926122 \r\nC 179.422945 28.711668 158.001116 24.974939 137.107166 28.312453 \r\n\" style=\"fill:#ffde66;opacity:0.9;\"/>\r\n   </g>\r\n   <g id=\"patch_4\">\r\n    <path clip-path=\"url(#p330496a5f3)\" d=\"M 137.107166 28.312453 \r\nC 122.441565 30.655076 108.527622 36.404462 96.486082 45.097508 \r\nC 84.444542 53.790554 74.607634 65.187417 67.767704 78.370099 \r\nC 60.927774 91.55278 57.273537 106.157567 57.099337 121.008069 \r\nC 56.925136 135.85857 60.235778 150.545057 66.764596 163.884558 \r\nC 71.386256 148.837984 80.715982 135.66408 93.375085 126.309603 \r\nC 106.034187 116.955125 121.3668 111.904729 137.107166 111.904729 \r\nC 152.847532 111.904729 168.180145 116.955125 180.839248 126.309603 \r\nC 193.49835 135.66408 202.828076 148.837984 207.449737 163.884558 \r\nC 213.978554 150.545057 217.289196 135.85857 217.114996 121.008069 \r\nC 216.940795 106.157567 213.286559 91.55278 206.446629 78.370099 \r\nC 199.606699 65.187417 189.76979 53.790554 177.72825 45.097508 \r\nC 165.68671 36.404462 151.772767 30.655076 137.107166 28.312453 \r\n\" style=\"fill:#fffffa;opacity:0.9;\"/>\r\n   </g>\r\n   <g id=\"patch_5\">\r\n    <path clip-path=\"url(#p330496a5f3)\" d=\"M 64.537555 197.67918 \r\nC 67.419415 214.837731 76.295445 230.430301 89.57818 241.66818 \r\nC 102.860915 252.906059 119.708288 259.076815 137.107166 259.076815 \r\nC 154.506045 259.076815 171.353417 252.906059 184.636152 241.66818 \r\nC 197.918887 230.430301 206.794917 214.837731 209.676777 197.67918 \r\nC 199.446678 205.475938 187.738867 211.114415 175.264882 214.251936 \r\nC 162.790896 217.389458 149.808661 217.961148 137.107166 215.932264 \r\nC 124.405671 217.961148 111.423436 217.389458 98.94945 214.251936 \r\nC 86.475465 211.114415 74.767654 205.475938 64.537555 197.67918 \r\n\" style=\"fill:#a0e45e;opacity:0.9;\"/>\r\n   </g>\r\n   <g id=\"patch_6\">\r\n    <path clip-path=\"url(#p330496a5f3)\" d=\"M 64.537555 197.67918 \r\nC 74.767654 205.475938 86.475465 211.114415 98.94945 214.251936 \r\nC 111.423436 217.389458 124.405671 217.961148 137.107166 215.932264 \r\nC 122.069696 213.53024 107.827919 207.547363 95.586447 198.489683 \r\nC 83.344975 189.432002 73.458961 177.562302 66.764596 163.884558 \r\nC 65.090357 169.335317 64.055337 174.962252 63.680386 180.652002 \r\nC 63.305436 186.341752 63.593091 192.055851 64.537555 197.67918 \r\n\" style=\"fill:#ccfff4;opacity:0.9;\"/>\r\n   </g>\r\n   <g id=\"patch_7\">\r\n    <path clip-path=\"url(#p330496a5f3)\" d=\"M 207.449737 163.884558 \r\nC 200.755371 177.562302 190.869357 189.432002 178.627885 198.489683 \r\nC 166.386413 207.547363 152.144636 213.53024 137.107166 215.932264 \r\nC 149.808661 217.961148 162.790896 217.389458 175.264882 214.251936 \r\nC 187.738867 211.114415 199.446678 205.475938 209.676777 197.67918 \r\nC 210.621242 192.055851 210.908896 186.341752 210.533946 180.652002 \r\nC 210.158996 174.962252 209.123975 169.335317 207.449737 163.884558 \r\n\" style=\"fill:#ffff89;opacity:0.9;\"/>\r\n   </g>\r\n   <g id=\"patch_8\">\r\n    <path clip-path=\"url(#p330496a5f3)\" d=\"M 66.764596 163.884558 \r\nC 73.458961 177.562302 83.344975 189.432002 95.586447 198.489683 \r\nC 107.827919 207.547363 122.069696 213.53024 137.107166 215.932264 \r\nC 152.144636 213.53024 166.386413 207.547363 178.627885 198.489683 \r\nC 190.869357 189.432002 200.755371 177.562302 207.449737 163.884558 \r\nC 202.828076 148.837984 193.49835 135.66408 180.839248 126.309603 \r\nC 168.180145 116.955125 152.847532 111.904729 137.107166 111.904729 \r\nC 121.3668 111.904729 106.034187 116.955125 93.375085 126.309603 \r\nC 80.715982 135.66408 71.386256 148.837984 66.764596 163.884558 \r\n\" style=\"fill:#dbf8b4;opacity:0.9;\"/>\r\n   </g>\r\n   <g id=\"text_1\">\r\n    <!-- 1 -->\r\n    <defs>\r\n     <path d=\"M 37.25 0 \r\nL 28.46875 0 \r\nL 28.46875 56 \r\nQ 25.296875 52.984375 20.140625 49.953125 \r\nQ 14.984375 46.921875 10.890625 45.40625 \r\nL 10.890625 53.90625 \r\nQ 18.265625 57.375 23.78125 62.296875 \r\nQ 29.296875 67.234375 31.59375 71.875 \r\nL 37.25 71.875 \r\nz\r\n\" id=\"ArialMT-49\"/>\r\n    </defs>\r\n    <g transform=\"translate(45.40626 95.41345)scale(0.16 -0.16)\">\r\n     <use xlink:href=\"#ArialMT-49\"/>\r\n    </g>\r\n   </g>\r\n   <g id=\"text_2\">\r\n    <!-- 1 -->\r\n    <g transform=\"translate(219.910572 95.41345)scale(0.16 -0.16)\">\r\n     <use xlink:href=\"#ArialMT-49\"/>\r\n    </g>\r\n   </g>\r\n   <g id=\"text_3\">\r\n    <!-- 2 -->\r\n    <defs>\r\n     <path d=\"M 50.34375 8.453125 \r\nL 50.34375 0 \r\nL 3.03125 0 \r\nQ 2.9375 3.171875 4.046875 6.109375 \r\nQ 5.859375 10.9375 9.828125 15.625 \r\nQ 13.8125 20.3125 21.34375 26.46875 \r\nQ 33.015625 36.03125 37.109375 41.625 \r\nQ 41.21875 47.21875 41.21875 52.203125 \r\nQ 41.21875 57.421875 37.46875 61 \r\nQ 33.734375 64.59375 27.734375 64.59375 \r\nQ 21.390625 64.59375 17.578125 60.78125 \r\nQ 13.765625 56.984375 13.71875 50.25 \r\nL 4.6875 51.171875 \r\nQ 5.609375 61.28125 11.65625 66.578125 \r\nQ 17.71875 71.875 27.9375 71.875 \r\nQ 38.234375 71.875 44.234375 66.15625 \r\nQ 50.25 60.453125 50.25 52 \r\nQ 50.25 47.703125 48.484375 43.546875 \r\nQ 46.734375 39.40625 42.65625 34.8125 \r\nQ 38.578125 30.21875 29.109375 22.21875 \r\nQ 21.1875 15.578125 18.9375 13.203125 \r\nQ 16.703125 10.84375 15.234375 8.453125 \r\nz\r\n\" id=\"ArialMT-50\"/>\r\n    </defs>\r\n    <g transform=\"translate(132.658416 96.097984)scale(0.16 -0.16)\">\r\n     <use xlink:href=\"#ArialMT-50\"/>\r\n    </g>\r\n   </g>\r\n   <g id=\"text_4\">\r\n    <!-- 1 -->\r\n    <g transform=\"translate(132.658416 246.821487)scale(0.16 -0.16)\">\r\n     <use xlink:href=\"#ArialMT-49\"/>\r\n    </g>\r\n   </g>\r\n   <g id=\"text_5\">\r\n    <!-- 0 -->\r\n    <defs>\r\n     <path d=\"M 4.15625 35.296875 \r\nQ 4.15625 48 6.765625 55.734375 \r\nQ 9.375 63.484375 14.515625 67.671875 \r\nQ 19.671875 71.875 27.484375 71.875 \r\nQ 33.25 71.875 37.59375 69.546875 \r\nQ 41.9375 67.234375 44.765625 62.859375 \r\nQ 47.609375 58.5 49.21875 52.21875 \r\nQ 50.828125 45.953125 50.828125 35.296875 \r\nQ 50.828125 22.703125 48.234375 14.96875 \r\nQ 45.65625 7.234375 40.5 3 \r\nQ 35.359375 -1.21875 27.484375 -1.21875 \r\nQ 17.140625 -1.21875 11.234375 6.203125 \r\nQ 4.15625 15.140625 4.15625 35.296875 \r\nz\r\nM 13.1875 35.296875 \r\nQ 13.1875 17.671875 17.3125 11.828125 \r\nQ 21.4375 6 27.484375 6 \r\nQ 33.546875 6 37.671875 11.859375 \r\nQ 41.796875 17.71875 41.796875 35.296875 \r\nQ 41.796875 52.984375 37.671875 58.78125 \r\nQ 33.546875 64.59375 27.390625 64.59375 \r\nQ 21.34375 64.59375 17.71875 59.46875 \r\nQ 13.1875 52.9375 13.1875 35.296875 \r\nz\r\n\" id=\"ArialMT-48\"/>\r\n    </defs>\r\n    <g transform=\"translate(85.717124 204.632614)scale(0.16 -0.16)\">\r\n     <use xlink:href=\"#ArialMT-48\"/>\r\n    </g>\r\n   </g>\r\n   <g id=\"text_6\">\r\n    <!-- 0 -->\r\n    <g transform=\"translate(179.599709 204.632614)scale(0.16 -0.16)\">\r\n     <use xlink:href=\"#ArialMT-48\"/>\r\n    </g>\r\n   </g>\r\n   <g id=\"text_7\">\r\n    <!-- 2 -->\r\n    <g transform=\"translate(132.658416 153.207586)scale(0.16 -0.16)\">\r\n     <use xlink:href=\"#ArialMT-50\"/>\r\n    </g>\r\n   </g>\r\n   <g id=\"text_8\">\r\n    <!-- THAI -->\r\n    <defs>\r\n     <path d=\"M 25.921875 0 \r\nL 25.921875 63.140625 \r\nL 2.34375 63.140625 \r\nL 2.34375 71.578125 \r\nL 59.078125 71.578125 \r\nL 59.078125 63.140625 \r\nL 35.40625 63.140625 \r\nL 35.40625 0 \r\nz\r\n\" id=\"ArialMT-84\"/>\r\n     <path d=\"M 8.015625 0 \r\nL 8.015625 71.578125 \r\nL 17.484375 71.578125 \r\nL 17.484375 42.1875 \r\nL 54.6875 42.1875 \r\nL 54.6875 71.578125 \r\nL 64.15625 71.578125 \r\nL 64.15625 0 \r\nL 54.6875 0 \r\nL 54.6875 33.734375 \r\nL 17.484375 33.734375 \r\nL 17.484375 0 \r\nz\r\n\" id=\"ArialMT-72\"/>\r\n     <path d=\"M -0.140625 0 \r\nL 27.34375 71.578125 \r\nL 37.546875 71.578125 \r\nL 66.84375 0 \r\nL 56.0625 0 \r\nL 47.703125 21.6875 \r\nL 17.78125 21.6875 \r\nL 9.90625 0 \r\nz\r\nM 20.515625 29.390625 \r\nL 44.78125 29.390625 \r\nL 37.3125 49.21875 \r\nQ 33.890625 58.25 32.234375 64.0625 \r\nQ 30.859375 57.171875 28.375 50.390625 \r\nz\r\n\" id=\"ArialMT-65\"/>\r\n     <path d=\"M 9.328125 0 \r\nL 9.328125 71.578125 \r\nL 18.796875 71.578125 \r\nL 18.796875 0 \r\nz\r\n\" id=\"ArialMT-73\"/>\r\n    </defs>\r\n    <g transform=\"translate(38.177772 27.123185)scale(0.16 -0.16)\">\r\n     <use xlink:href=\"#ArialMT-84\"/>\r\n     <use x=\"61.083984\" xlink:href=\"#ArialMT-72\"/>\r\n     <use x=\"133.300781\" xlink:href=\"#ArialMT-65\"/>\r\n     <use x=\"200\" xlink:href=\"#ArialMT-73\"/>\r\n    </g>\r\n   </g>\r\n   <g id=\"text_9\">\r\n    <!-- ENGLISH -->\r\n    <defs>\r\n     <path d=\"M 7.90625 0 \r\nL 7.90625 71.578125 \r\nL 59.671875 71.578125 \r\nL 59.671875 63.140625 \r\nL 17.390625 63.140625 \r\nL 17.390625 41.21875 \r\nL 56.984375 41.21875 \r\nL 56.984375 32.8125 \r\nL 17.390625 32.8125 \r\nL 17.390625 8.453125 \r\nL 61.328125 8.453125 \r\nL 61.328125 0 \r\nz\r\n\" id=\"ArialMT-69\"/>\r\n     <path d=\"M 7.625 0 \r\nL 7.625 71.578125 \r\nL 17.328125 71.578125 \r\nL 54.9375 15.375 \r\nL 54.9375 71.578125 \r\nL 64.015625 71.578125 \r\nL 64.015625 0 \r\nL 54.296875 0 \r\nL 16.703125 56.25 \r\nL 16.703125 0 \r\nz\r\n\" id=\"ArialMT-78\"/>\r\n     <path d=\"M 41.21875 28.078125 \r\nL 41.21875 36.46875 \r\nL 71.53125 36.53125 \r\nL 71.53125 9.96875 \r\nQ 64.546875 4.390625 57.125 1.578125 \r\nQ 49.703125 -1.21875 41.890625 -1.21875 \r\nQ 31.34375 -1.21875 22.71875 3.296875 \r\nQ 14.109375 7.8125 9.71875 16.359375 \r\nQ 5.328125 24.90625 5.328125 35.453125 \r\nQ 5.328125 45.90625 9.6875 54.953125 \r\nQ 14.0625 64.015625 22.265625 68.40625 \r\nQ 30.46875 72.796875 41.15625 72.796875 \r\nQ 48.921875 72.796875 55.1875 70.28125 \r\nQ 61.46875 67.78125 65.03125 63.28125 \r\nQ 68.609375 58.796875 70.453125 51.5625 \r\nL 61.921875 49.21875 \r\nQ 60.296875 54.6875 57.90625 57.8125 \r\nQ 55.515625 60.9375 51.0625 62.8125 \r\nQ 46.625 64.703125 41.21875 64.703125 \r\nQ 34.71875 64.703125 29.984375 62.71875 \r\nQ 25.25 60.75 22.34375 57.515625 \r\nQ 19.4375 54.296875 17.828125 50.4375 \r\nQ 15.09375 43.796875 15.09375 36.03125 \r\nQ 15.09375 26.46875 18.390625 20.015625 \r\nQ 21.6875 13.578125 27.984375 10.453125 \r\nQ 34.28125 7.328125 41.359375 7.328125 \r\nQ 47.515625 7.328125 53.375 9.6875 \r\nQ 59.234375 12.0625 62.25 14.75 \r\nL 62.25 28.078125 \r\nz\r\n\" id=\"ArialMT-71\"/>\r\n     <path d=\"M 7.328125 0 \r\nL 7.328125 71.578125 \r\nL 16.796875 71.578125 \r\nL 16.796875 8.453125 \r\nL 52.046875 8.453125 \r\nL 52.046875 0 \r\nz\r\n\" id=\"ArialMT-76\"/>\r\n     <path d=\"M 4.5 23 \r\nL 13.421875 23.78125 \r\nQ 14.0625 18.40625 16.375 14.96875 \r\nQ 18.703125 11.53125 23.578125 9.40625 \r\nQ 28.46875 7.28125 34.578125 7.28125 \r\nQ 39.984375 7.28125 44.140625 8.890625 \r\nQ 48.296875 10.5 50.3125 13.296875 \r\nQ 52.34375 16.109375 52.34375 19.4375 \r\nQ 52.34375 22.796875 50.390625 25.3125 \r\nQ 48.4375 27.828125 43.953125 29.546875 \r\nQ 41.0625 30.671875 31.203125 33.03125 \r\nQ 21.34375 35.40625 17.390625 37.5 \r\nQ 12.25 40.1875 9.734375 44.15625 \r\nQ 7.234375 48.140625 7.234375 53.078125 \r\nQ 7.234375 58.5 10.296875 63.203125 \r\nQ 13.375 67.921875 19.28125 70.359375 \r\nQ 25.203125 72.796875 32.421875 72.796875 \r\nQ 40.375 72.796875 46.453125 70.234375 \r\nQ 52.546875 67.671875 55.8125 62.6875 \r\nQ 59.078125 57.71875 59.328125 51.421875 \r\nL 50.25 50.734375 \r\nQ 49.515625 57.515625 45.28125 60.984375 \r\nQ 41.0625 64.453125 32.8125 64.453125 \r\nQ 24.21875 64.453125 20.28125 61.296875 \r\nQ 16.359375 58.15625 16.359375 53.71875 \r\nQ 16.359375 49.859375 19.140625 47.359375 \r\nQ 21.875 44.875 33.421875 42.265625 \r\nQ 44.96875 39.65625 49.265625 37.703125 \r\nQ 55.515625 34.8125 58.484375 30.390625 \r\nQ 61.46875 25.984375 61.46875 20.21875 \r\nQ 61.46875 14.5 58.203125 9.4375 \r\nQ 54.9375 4.390625 48.796875 1.578125 \r\nQ 42.671875 -1.21875 35.015625 -1.21875 \r\nQ 25.296875 -1.21875 18.71875 1.609375 \r\nQ 12.15625 4.4375 8.421875 10.125 \r\nQ 4.6875 15.828125 4.5 23 \r\nz\r\n\" id=\"ArialMT-83\"/>\r\n    </defs>\r\n    <g transform=\"translate(199.59156 27.123185)scale(0.16 -0.16)\">\r\n     <use xlink:href=\"#ArialMT-69\"/>\r\n     <use x=\"66.699219\" xlink:href=\"#ArialMT-78\"/>\r\n     <use x=\"138.916016\" xlink:href=\"#ArialMT-71\"/>\r\n     <use x=\"216.699219\" xlink:href=\"#ArialMT-76\"/>\r\n     <use x=\"272.314453\" xlink:href=\"#ArialMT-73\"/>\r\n     <use x=\"300.097656\" xlink:href=\"#ArialMT-83\"/>\r\n     <use x=\"366.796875\" xlink:href=\"#ArialMT-72\"/>\r\n    </g>\r\n   </g>\r\n   <g id=\"text_10\">\r\n    <!-- CHINESE -->\r\n    <defs>\r\n     <path d=\"M 58.796875 25.09375 \r\nL 68.265625 22.703125 \r\nQ 65.28125 11.03125 57.546875 4.90625 \r\nQ 49.8125 -1.21875 38.625 -1.21875 \r\nQ 27.046875 -1.21875 19.796875 3.484375 \r\nQ 12.546875 8.203125 8.765625 17.140625 \r\nQ 4.984375 26.078125 4.984375 36.328125 \r\nQ 4.984375 47.515625 9.25 55.828125 \r\nQ 13.53125 64.15625 21.40625 68.46875 \r\nQ 29.296875 72.796875 38.765625 72.796875 \r\nQ 49.515625 72.796875 56.828125 67.328125 \r\nQ 64.15625 61.859375 67.046875 51.953125 \r\nL 57.71875 49.75 \r\nQ 55.21875 57.5625 50.484375 61.125 \r\nQ 45.75 64.703125 38.578125 64.703125 \r\nQ 30.328125 64.703125 24.78125 60.734375 \r\nQ 19.234375 56.78125 16.984375 50.109375 \r\nQ 14.75 43.453125 14.75 36.375 \r\nQ 14.75 27.25 17.40625 20.4375 \r\nQ 20.0625 13.625 25.671875 10.25 \r\nQ 31.296875 6.890625 37.84375 6.890625 \r\nQ 45.796875 6.890625 51.3125 11.46875 \r\nQ 56.84375 16.0625 58.796875 25.09375 \r\nz\r\n\" id=\"ArialMT-67\"/>\r\n    </defs>\r\n    <g transform=\"translate(101.543416 277.887919)scale(0.16 -0.16)\">\r\n     <use xlink:href=\"#ArialMT-67\"/>\r\n     <use x=\"72.216797\" xlink:href=\"#ArialMT-72\"/>\r\n     <use x=\"144.433594\" xlink:href=\"#ArialMT-73\"/>\r\n     <use x=\"172.216797\" xlink:href=\"#ArialMT-78\"/>\r\n     <use x=\"244.433594\" xlink:href=\"#ArialMT-69\"/>\r\n     <use x=\"311.132812\" xlink:href=\"#ArialMT-83\"/>\r\n     <use x=\"377.832031\" xlink:href=\"#ArialMT-69\"/>\r\n    </g>\r\n   </g>\r\n  </g>\r\n </g>\r\n <defs>\r\n  <clipPath id=\"p330496a5f3\">\r\n   <rect height=\"271.8\" width=\"259.814332\" x=\"7.2\" y=\"7.2\"/>\r\n  </clipPath>\r\n </defs>\r\n</svg>\r\n",
      "text/plain": "<Figure size 360x360 with 1 Axes>"
     },
     "metadata": {},
     "output_type": "display_data"
    }
   ],
   "source": [
    "plt.figure(figsize=(5,5))\n",
    "out = venn3([set1, set2, set3], ('THAI', 'ENGLISH', 'CHINESE'), \n",
    "          set_colors = ('#84A9FF', '#FFDE66','#A0E45E'),alpha=0.9)\n",
    "\n",
    "for text in out.set_labels:\n",
    "    text.set_fontsize(16)\n",
    "    text.set_color(\"black\")\n",
    "    \n",
    "for text in out.subset_labels:\n",
    "    text.set_fontsize(16)\n",
    "    text.set_color(\"black\")\n",
    "\n",
    "plt.show()"
   ]
  },
  {
   "cell_type": "code",
   "execution_count": 36,
   "metadata": {},
   "outputs": [
    {
     "name": "stdout",
     "output_type": "stream",
     "text": "Student who speak only Thai or only English:\nFonn\nGame\nStudent who speak only one language:\nFonn\nAnna\nGame\nStudent who speak only one language:\nFonn\nAnna\nGame\n"
    }
   ],
   "source": [
    "# def addStdList(std):\n",
    "#     a = []\n",
    "#     for i in range(5):    \n",
    "    # a.append(i)\n",
    "\n",
    "print('Student who speak only Thai or only English:')\n",
    "for student in THAI ^ ENGLISH:\n",
    "    \n",
    "    print(student)\n",
    "\n",
    "print('Student who speak only one language:')\n",
    "for student in (THAI | ENGLISH | CHINESE) - (THAI & ENGLISH & CHINESE) - (THAI & ENGLISH) - (THAI & CHINESE) - (CHINESE & ENGLISH):\n",
    "    print(student)\n",
    "\n",
    "print('Student who speak only one language:')\n",
    "for student in ((THAI ^ ENGLISH) - CHINESE) | ((THAI ^ CHINESE) - ENGLISH) | ((CHINESE ^ ENGLISH) - THAI):\n",
    "    print(student)"
   ]
  }
 ],
 "metadata": {
  "kernelspec": {
   "display_name": "Python 3",
   "language": "python",
   "name": "python3"
  },
  "language_info": {
   "codemirror_mode": {
    "name": "ipython",
    "version": 3
   },
   "file_extension": ".py",
   "mimetype": "text/x-python",
   "name": "python",
   "nbconvert_exporter": "python",
   "pygments_lexer": "ipython3",
   "version": "3.7.4-final"
  }
 },
 "nbformat": 4,
 "nbformat_minor": 2
}